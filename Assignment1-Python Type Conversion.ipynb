{
 
 {
   "cell_type": "markdown",
   "id": "b985d04a-0ae2-42b2-8cf9-9e7c3672f5d7",
   "metadata": {},
   "source": [
    "# Type Conversion (Type Casting) "
   ]
  },
  {
   "cell_type": "markdown",
   "id": "fa8be23f-08ac-4213-8385-fc5f2f5a403b",
   "metadata": {},
   "source": [
    "The process of converting the data type of a variable is called type casting. Two types of casting are there \n",
    "1. Implicit conversion (system automatically converts the datatype)\n",
    "\n",
    "   Example : type(8+9.01)\n",
    "\n",
    "   output  : int+float----> float\n",
    "3. Explicit conversion (convert explicitly using inbuilt functions like string(), int(), float(), bool())\n",
    "\n",
    "Example : s = \"3\"\n",
    "        \n",
    "          a = int(s)\n",
    "         \n",
    "          type(a)\n",
    "\n",
    "output  : int\n"
   ]
  },
  {
   "cell_type": "markdown",
   "id": "de6b8507-cfb8-45ce-92ec-1cbcda9d29f2",
   "metadata": {},
   "source": [
    "### 1. Convert an integer to a floating-point number."
   ]
  },
  {
   "cell_type": "code",
   "execution_count": 2,
   "id": "8d5e98ce-3a4d-4cae-b06f-b1ebcbbd01be",
   "metadata": {},
   "outputs": [
    {
     "data": {
      "text/plain": [
       "float"
      ]
     },
     "execution_count": 2,
     "metadata": {},
     "output_type": "execute_result"
    }
   ],
   "source": [
    "x = 378 # integer\n",
    "y = float (x) # Converted to a floating point number using the inbuilt function float()\n",
    "type (y)  # check the type of the datatype"
   ]
  },
  {
   "cell_type": "code",
   "execution_count": 3,
   "id": "5e3a3018-230c-4349-abfe-c580fb144fe7",
   "metadata": {},
   "outputs": [
    {
     "data": {
      "text/plain": [
       "float"
      ]
     },
     "execution_count": 3,
     "metadata": {},
     "output_type": "execute_result"
    }
   ],
   "source": [
    "# Or\n",
    "type(float(341))"
   ]
  },
  {
   "cell_type": "markdown",
   "id": "a95c605f-24b3-4b97-93aa-f5a47e1fd1e9",
   "metadata": {},
   "source": [
    "### 2.  Convert a float to an integer\n"
   ]
  },
  {
   "cell_type": "markdown",
   "id": "75317525-ba8b-4e6a-aa73-8f80b3c7b841",
   "metadata": {},
   "source": [
    "a = -11.0932 # floating point number\n",
    "type(a)"
   ]
  },
  {
   "cell_type": "code",
   "execution_count": 7,
   "id": "2e1f85fb-747f-42be-ac7e-8f2a61e6a521",
   "metadata": {},
   "outputs": [
    {
     "data": {
      "text/plain": [
       "-11"
      ]
     },
     "execution_count": 7,
     "metadata": {},
     "output_type": "execute_result"
    }
   ],
   "source": [
    "b = int(a)\n",
    "b"
   ]
  },
  {
   "cell_type": "code",
   "execution_count": 8,
   "id": "e387f48a-8fba-4778-a1f4-db972a0a803a",
   "metadata": {},
   "outputs": [
    {
     "data": {
      "text/plain": [
       "int"
      ]
     },
     "execution_count": 8,
     "metadata": {},
     "output_type": "execute_result"
    }
   ],
   "source": [
    "type(b)"
   ]
  },
  {
   "cell_type": "markdown",
   "id": "5b29049a-450a-4a2b-a827-eb644dae6193",
   "metadata": {},
   "source": [
    "### 3. Convert an integer to a string\n"
   ]
  },
  {
   "cell_type": "code",
   "execution_count": 15,
   "id": "d8cfd03d-1a8a-4516-ab79-3619513bda18",
   "metadata": {},
   "outputs": [
    {
     "name": "stdout",
     "output_type": "stream",
     "text": [
      "45\n",
      "<class 'str'>\n"
     ]
    }
   ],
   "source": [
    "num1 = 45 # integer number\n",
    "s1 = str(num1) # converted to string\n",
    "print(s1)\n",
    "print(type(s1))"
   ]
  },
  {
   "cell_type": "markdown",
   "id": "95f5703f-19e2-41cc-a579-41fdb4853f4f",
   "metadata": {},
   "source": [
    "### 4. Convert a list to a tuple"
   ]
  },
  {
   "cell_type": "markdown",
   "id": "f436a7aa-a26a-4e17-918e-e4cbc664e32e",
   "metadata": {},
   "source": [
    "List is a data structure(way of organizing data), which is mutable and hetrogeneous. while Tuple is immutable(cannot modify the elements) and hetrogeneous. Example: Emirates ID"
   ]
  },
  {
   "cell_type": "code",
   "execution_count": 16,
   "id": "ba0340a8-5bcb-48c1-bc48-401201a97e67",
   "metadata": {},
   "outputs": [
    {
     "name": "stdout",
     "output_type": "stream",
     "text": [
      "(101, 'Seena', 'Mdx', 'Dubai')\n",
      "<class 'tuple'>\n"
     ]
    }
   ],
   "source": [
    "\n",
    "list1 = [101, \"Seena\", \"Mdx\", \"Dubai\"]       #list\n",
    "tuple1 = tuple(list1)  # Convert list into tuple\n",
    "print(tuple1)\n",
    "print(type(tuple1))\n"
   ]
  },
  {
   "cell_type": "markdown",
   "id": "0e198986-23ef-4067-816e-22b94a21f1a6",
   "metadata": {},
   "source": [
    "### 5. Convert a tuple to a list"
   ]
  },
  {
   "cell_type": "code",
   "execution_count": 17,
   "id": "d3c07f0a-5e8c-4987-9345-d5fe981fa16e",
   "metadata": {},
   "outputs": [
    {
     "name": "stdout",
     "output_type": "stream",
     "text": [
      "['p101', 'Nashwa', 'DMU', 'Abudhabi']\n",
      "<class 'list'>\n"
     ]
    }
   ],
   "source": [
    "t1 = (\"p101\",\"Nashwa\",\"DMU\",\"Abudhabi\") # tuple\n",
    "l1 = list(t1)  # Type conversion\n",
    "print(l1)\n",
    "print(type(l1))"
   ]
  },
  {
   "cell_type": "markdown",
   "id": "171a571c-0de5-4feb-b315-5d9a85192d83",
   "metadata": {},
   "source": [
    " ### 6. Convert a decimal number to binary"
   ]
  },
  {
   "cell_type": "code",
   "execution_count": 18,
   "id": "acf5b7bd-b11f-4a19-b69e-ab71432c5ef2",
   "metadata": {},
   "outputs": [
    {
     "name": "stdout",
     "output_type": "stream",
     "text": [
      "Binary Number: 0b110111\n",
      "Data type: <class 'str'>\n"
     ]
    }
   ],
   "source": [
    "a = 55\n",
    "b = bin(a)\n",
    "print (\"Binary Number:\", b)\n",
    "print(\"Data type:\", type(b))"
   ]
  },
  {
   "cell_type": "code",
   "execution_count": 20,
   "id": "283e5c4c-bfed-4ce2-9ea0-2e822d46397e",
   "metadata": {},
   "outputs": [
    {
     "name": "stdout",
     "output_type": "stream",
     "text": [
      "Exact Binary number is: 110111\n"
     ]
    }
   ],
   "source": [
    "print(\"Exact Binary number is:\", b[2:])"
   ]
  },
  {
   "cell_type": "markdown",
   "id": "90780c7c-8414-41fb-abde-530698f0f321",
   "metadata": {},
   "source": [
    "### 7.Convert a non-zero number to boolean"
   ]
  },
  {
   "cell_type": "code",
   "execution_count": 29,
   "id": "9eee0231-1c0a-49a8-89e6-d2e02cd49f0e",
   "metadata": {},
   "outputs": [
    {
     "name": "stdout",
     "output_type": "stream",
     "text": [
      "Number: True\n",
      "Data Type: <class 'bool'>\n"
     ]
    }
   ],
   "source": [
    "a = 100344  # non-zero number\n",
    "b= bool(a)   # converted to a Boolean number\n",
    "print(\"Number:\", b)\n",
    "print(\"Data Type:\", type(b))"
   ]
  }
 ],
 "metadata": {
  "kernelspec": {
   "display_name": "Python 3 (ipykernel)",
   "language": "python",
   "name": "python3"
  },
  "language_info": {
   "codemirror_mode": {
    "name": "ipython",
    "version": 3
   },
   "file_extension": ".py",
   "mimetype": "text/x-python",
   "name": "python",
   "nbconvert_exporter": "python",
   "pygments_lexer": "ipython3",
   "version": "3.11.7"
  }
 },
 "nbformat": 4,
 "nbformat_minor": 5
}
